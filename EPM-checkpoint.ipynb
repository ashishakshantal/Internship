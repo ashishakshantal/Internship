{
 "cells": [
  {
   "cell_type": "code",
   "execution_count": 44,
   "metadata": {},
   "outputs": [],
   "source": [
    "import pandas as pd\n"
   ]
  },
  {
   "cell_type": "code",
   "execution_count": 60,
   "metadata": {},
   "outputs": [],
   "source": [
    "epm = pd.read_csv(\"EPM.csv\", names=['session',\n",
    "               'student_Id',\n",
    "               'exercise',\n",
    "               'activity',\n",
    "               'start_time',\n",
    "               'end_time',\n",
    "               'idle_time',\n",
    "               'mouse_wheel',\n",
    "               'mouse_wheel_click',\n",
    "               'mouse_click_left',\n",
    "               'mouse_click_right',\n",
    "               'mouse_movement',\n",
    "               'keystroke'], dtype='unicode')#'unicode' will help get through the low_memory warning"
   ]
  },
  {
   "cell_type": "code",
   "execution_count": 61,
   "metadata": {},
   "outputs": [
    {
     "data": {
      "text/html": [
       "<div>\n",
       "<style scoped>\n",
       "    .dataframe tbody tr th:only-of-type {\n",
       "        vertical-align: middle;\n",
       "    }\n",
       "\n",
       "    .dataframe tbody tr th {\n",
       "        vertical-align: top;\n",
       "    }\n",
       "\n",
       "    .dataframe thead th {\n",
       "        text-align: right;\n",
       "    }\n",
       "</style>\n",
       "<table border=\"1\" class=\"dataframe\">\n",
       "  <thead>\n",
       "    <tr style=\"text-align: right;\">\n",
       "      <th></th>\n",
       "      <th>session</th>\n",
       "      <th>student_Id</th>\n",
       "      <th>exercise</th>\n",
       "      <th>activity</th>\n",
       "      <th>start_time</th>\n",
       "      <th>end_time</th>\n",
       "      <th>idle_time</th>\n",
       "      <th>mouse_wheel</th>\n",
       "      <th>mouse_wheel_click</th>\n",
       "      <th>mouse_click_left</th>\n",
       "      <th>mouse_click_right</th>\n",
       "      <th>mouse_movement</th>\n",
       "      <th>keystroke</th>\n",
       "    </tr>\n",
       "  </thead>\n",
       "  <tbody>\n",
       "    <tr>\n",
       "      <th>count</th>\n",
       "      <td>230319</td>\n",
       "      <td>230318</td>\n",
       "      <td>230318</td>\n",
       "      <td>230318</td>\n",
       "      <td>230318</td>\n",
       "      <td>230318</td>\n",
       "      <td>230318</td>\n",
       "      <td>230318</td>\n",
       "      <td>230318</td>\n",
       "      <td>230318</td>\n",
       "      <td>230318</td>\n",
       "      <td>230318</td>\n",
       "      <td>230318</td>\n",
       "    </tr>\n",
       "    <tr>\n",
       "      <th>unique</th>\n",
       "      <td>7</td>\n",
       "      <td>115</td>\n",
       "      <td>30</td>\n",
       "      <td>99</td>\n",
       "      <td>60316</td>\n",
       "      <td>60323</td>\n",
       "      <td>54834</td>\n",
       "      <td>464</td>\n",
       "      <td>17</td>\n",
       "      <td>395</td>\n",
       "      <td>75</td>\n",
       "      <td>6244</td>\n",
       "      <td>814</td>\n",
       "    </tr>\n",
       "    <tr>\n",
       "      <th>top</th>\n",
       "      <td>6</td>\n",
       "      <td>74</td>\n",
       "      <td>Es_4_5</td>\n",
       "      <td>Other</td>\n",
       "      <td>13.11.2014 11:58:3</td>\n",
       "      <td>13.11.2014 11:33:27</td>\n",
       "      <td>0</td>\n",
       "      <td>0</td>\n",
       "      <td>0</td>\n",
       "      <td>2</td>\n",
       "      <td>0</td>\n",
       "      <td>0</td>\n",
       "      <td>0</td>\n",
       "    </tr>\n",
       "    <tr>\n",
       "      <th>freq</th>\n",
       "      <td>53170</td>\n",
       "      <td>4061</td>\n",
       "      <td>22351</td>\n",
       "      <td>33602</td>\n",
       "      <td>18</td>\n",
       "      <td>17</td>\n",
       "      <td>83378</td>\n",
       "      <td>208858</td>\n",
       "      <td>229942</td>\n",
       "      <td>91739</td>\n",
       "      <td>217321</td>\n",
       "      <td>14742</td>\n",
       "      <td>196612</td>\n",
       "    </tr>\n",
       "  </tbody>\n",
       "</table>\n",
       "</div>"
      ],
      "text/plain": [
       "       session student_Id exercise activity           start_time  \\\n",
       "count   230319     230318   230318   230318               230318   \n",
       "unique       7        115       30       99                60316   \n",
       "top          6         74   Es_4_5    Other   13.11.2014 11:58:3   \n",
       "freq     53170       4061    22351    33602                   18   \n",
       "\n",
       "                    end_time idle_time mouse_wheel mouse_wheel_click  \\\n",
       "count                 230318    230318      230318            230318   \n",
       "unique                 60323     54834         464                17   \n",
       "top      13.11.2014 11:33:27         0           0                 0   \n",
       "freq                      17     83378      208858            229942   \n",
       "\n",
       "       mouse_click_left mouse_click_right mouse_movement keystroke  \n",
       "count            230318            230318         230318    230318  \n",
       "unique              395                75           6244       814  \n",
       "top                   2                 0              0         0  \n",
       "freq              91739            217321          14742    196612  "
      ]
     },
     "execution_count": 61,
     "metadata": {},
     "output_type": "execute_result"
    }
   ],
   "source": [
    "epm.describe()"
   ]
  },
  {
   "cell_type": "code",
   "execution_count": 80,
   "metadata": {},
   "outputs": [
    {
     "data": {
      "text/plain": [
       "session                    category\n",
       "student_Id                 category\n",
       "exercise                   category\n",
       "activity                   category\n",
       "start_time           datetime64[ns]\n",
       "end_time             datetime64[ns]\n",
       "idle_time                    object\n",
       "mouse_wheel                  object\n",
       "mouse_wheel_click             int32\n",
       "mouse_click_left              int32\n",
       "mouse_click_right             int32\n",
       "mouse_movement                int32\n",
       "keystroke                     int32\n",
       "dtype: object"
      ]
     },
     "execution_count": 80,
     "metadata": {},
     "output_type": "execute_result"
    }
   ],
   "source": [
    "epm.dtypes"
   ]
  },
  {
   "cell_type": "code",
   "execution_count": 63,
   "metadata": {},
   "outputs": [
    {
     "data": {
      "text/html": [
       "<div>\n",
       "<style scoped>\n",
       "    .dataframe tbody tr th:only-of-type {\n",
       "        vertical-align: middle;\n",
       "    }\n",
       "\n",
       "    .dataframe tbody tr th {\n",
       "        vertical-align: top;\n",
       "    }\n",
       "\n",
       "    .dataframe thead th {\n",
       "        text-align: right;\n",
       "    }\n",
       "</style>\n",
       "<table border=\"1\" class=\"dataframe\">\n",
       "  <thead>\n",
       "    <tr style=\"text-align: right;\">\n",
       "      <th></th>\n",
       "      <th>session</th>\n",
       "      <th>student_Id</th>\n",
       "      <th>exercise</th>\n",
       "      <th>activity</th>\n",
       "      <th>start_time</th>\n",
       "      <th>end_time</th>\n",
       "      <th>idle_time</th>\n",
       "      <th>mouse_wheel</th>\n",
       "      <th>mouse_wheel_click</th>\n",
       "      <th>mouse_click_left</th>\n",
       "      <th>mouse_click_right</th>\n",
       "      <th>mouse_movement</th>\n",
       "      <th>keystroke</th>\n",
       "    </tr>\n",
       "  </thead>\n",
       "  <tbody>\n",
       "    <tr>\n",
       "      <th>0</th>\n",
       "      <td>1</td>\n",
       "      <td>1</td>\n",
       "      <td>Es</td>\n",
       "      <td>Other</td>\n",
       "      <td>2.10.2014 11:25:33</td>\n",
       "      <td>2.10.2014 11:25:34</td>\n",
       "      <td>0</td>\n",
       "      <td>0</td>\n",
       "      <td>0</td>\n",
       "      <td>0</td>\n",
       "      <td>0</td>\n",
       "      <td>84</td>\n",
       "      <td>0</td>\n",
       "    </tr>\n",
       "    <tr>\n",
       "      <th>1</th>\n",
       "      <td>1</td>\n",
       "      <td>1</td>\n",
       "      <td>Es</td>\n",
       "      <td>Aulaweb</td>\n",
       "      <td>2.10.2014 11:25:35</td>\n",
       "      <td>2.10.2014 11:25:42</td>\n",
       "      <td>218</td>\n",
       "      <td>0</td>\n",
       "      <td>0</td>\n",
       "      <td>4</td>\n",
       "      <td>0</td>\n",
       "      <td>397</td>\n",
       "      <td>0</td>\n",
       "    </tr>\n",
       "    <tr>\n",
       "      <th>2</th>\n",
       "      <td>1</td>\n",
       "      <td>1</td>\n",
       "      <td>Es</td>\n",
       "      <td>Blank</td>\n",
       "      <td>2.10.2014 11:25:43</td>\n",
       "      <td>2.10.2014 11:25:43</td>\n",
       "      <td>0</td>\n",
       "      <td>0</td>\n",
       "      <td>0</td>\n",
       "      <td>0</td>\n",
       "      <td>0</td>\n",
       "      <td>59</td>\n",
       "      <td>0</td>\n",
       "    </tr>\n",
       "    <tr>\n",
       "      <th>3</th>\n",
       "      <td>1</td>\n",
       "      <td>1</td>\n",
       "      <td>Es</td>\n",
       "      <td>Deeds</td>\n",
       "      <td>2.10.2014 11:25:44</td>\n",
       "      <td>2.10.2014 11:26:17</td>\n",
       "      <td>154117</td>\n",
       "      <td>6</td>\n",
       "      <td>0</td>\n",
       "      <td>8</td>\n",
       "      <td>0</td>\n",
       "      <td>1581</td>\n",
       "      <td>4</td>\n",
       "    </tr>\n",
       "    <tr>\n",
       "      <th>4</th>\n",
       "      <td>1</td>\n",
       "      <td>1</td>\n",
       "      <td>Es</td>\n",
       "      <td>Other</td>\n",
       "      <td>2.10.2014 11:26:18</td>\n",
       "      <td>2.10.2014 11:26:18</td>\n",
       "      <td>0</td>\n",
       "      <td>0</td>\n",
       "      <td>0</td>\n",
       "      <td>2</td>\n",
       "      <td>0</td>\n",
       "      <td>103</td>\n",
       "      <td>0</td>\n",
       "    </tr>\n",
       "  </tbody>\n",
       "</table>\n",
       "</div>"
      ],
      "text/plain": [
       "  session student_Id exercise  activity           start_time  \\\n",
       "0       1          1       Es     Other   2.10.2014 11:25:33   \n",
       "1       1          1       Es   Aulaweb   2.10.2014 11:25:35   \n",
       "2       1          1       Es     Blank   2.10.2014 11:25:43   \n",
       "3       1          1       Es     Deeds   2.10.2014 11:25:44   \n",
       "4       1          1       Es     Other   2.10.2014 11:26:18   \n",
       "\n",
       "              end_time idle_time mouse_wheel mouse_wheel_click  \\\n",
       "0   2.10.2014 11:25:34         0           0                 0   \n",
       "1   2.10.2014 11:25:42       218           0                 0   \n",
       "2   2.10.2014 11:25:43         0           0                 0   \n",
       "3   2.10.2014 11:26:17    154117           6                 0   \n",
       "4   2.10.2014 11:26:18         0           0                 0   \n",
       "\n",
       "  mouse_click_left mouse_click_right mouse_movement keystroke  \n",
       "0                0                 0             84         0  \n",
       "1                4                 0            397         0  \n",
       "2                0                 0             59         0  \n",
       "3                8                 0           1581         4  \n",
       "4                2                 0            103         0  "
      ]
     },
     "execution_count": 63,
     "metadata": {},
     "output_type": "execute_result"
    }
   ],
   "source": [
    "epm.head()"
   ]
  },
  {
   "cell_type": "markdown",
   "metadata": {},
   "source": [
    "### converting object types for dates into date format"
   ]
  },
  {
   "cell_type": "code",
   "execution_count": 64,
   "metadata": {},
   "outputs": [],
   "source": [
    "epm['start_time'] = pd.to_datetime(epm.start_time)\n",
    "epm['end_time'] =pd.to_datetime(epm.end_time)"
   ]
  },
  {
   "cell_type": "markdown",
   "metadata": {},
   "source": [
    "### converting actual numeric features to numeric"
   ]
  },
  {
   "cell_type": "code",
   "execution_count": 76,
   "metadata": {},
   "outputs": [],
   "source": [
    "epm['mouse_click_left'] = epm.mouse_click_left.fillna(0).astype(int)\n",
    "epm['mouse_click_right'] = epm.mouse_click_right.fillna(0).astype(int)\n",
    "epm['mouse_wheel_click'] = epm.mouse_wheel_click.fillna(0).astype(int)\n",
    "epm['mouse_movement'] = epm.mouse_movement.fillna(0).astype(int)\n",
    "epm['keystroke'] = epm.keystroke.fillna(0).astype(int)"
   ]
  },
  {
   "cell_type": "markdown",
   "metadata": {},
   "source": [
    "### converting required columns to factors"
   ]
  },
  {
   "cell_type": "code",
   "execution_count": 79,
   "metadata": {
    "collapsed": true
   },
   "outputs": [],
   "source": [
    "epm['session'] = epm['session'].astype('category')\n",
    "epm['student_Id'] = epm['student_Id'].astype('category')\n",
    "epm['activity'] = epm['activity'].astype('category')\n",
    "epm['exercise'] = epm['exercise'].astype('category')"
   ]
  },
  {
   "cell_type": "code",
   "execution_count": null,
   "metadata": {
    "collapsed": true
   },
   "outputs": [],
   "source": []
  }
 ],
 "metadata": {
  "kernelspec": {
   "display_name": "Python 3",
   "language": "python",
   "name": "python3"
  },
  "language_info": {
   "codemirror_mode": {
    "name": "ipython",
    "version": 3
   },
   "file_extension": ".py",
   "mimetype": "text/x-python",
   "name": "python",
   "nbconvert_exporter": "python",
   "pygments_lexer": "ipython3",
   "version": "3.6.1"
  }
 },
 "nbformat": 4,
 "nbformat_minor": 2
}
